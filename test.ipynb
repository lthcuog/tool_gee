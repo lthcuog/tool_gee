{
 "cells": [
  {
   "cell_type": "code",
   "execution_count": 2,
   "metadata": {},
   "outputs": [],
   "source": [
    "import ee"
   ]
  },
  {
   "cell_type": "code",
   "execution_count": 3,
   "metadata": {},
   "outputs": [],
   "source": [
    "import os\n",
    "os.environ[\"GOOGLE_APPLICATION_CREDENTIALS\"] = \"F:/Download/thu-87486-d486da3e525f.json\""
   ]
  },
  {
   "cell_type": "code",
   "execution_count": 5,
   "metadata": {},
   "outputs": [
    {
     "name": "stdout",
     "output_type": "stream",
     "text": [
      "2021-01-01T00:00:00\n"
     ]
    }
   ],
   "source": [
    "ee.Initialize()\n",
    "print(ee.Date('2021-01-01').format().getInfo())"
   ]
  },
  {
   "cell_type": "code",
   "execution_count": 6,
   "metadata": {},
   "outputs": [],
   "source": [
    "import datetime\n",
    "import ee\n",
    "import csv\n",
    "import os\n",
    "\n",
    "ee.Initialize()"
   ]
  },
  {
   "cell_type": "code",
   "execution_count": 8,
   "metadata": {},
   "outputs": [],
   "source": [
    "start_date = ee.Date.fromYMD(2022, 1, 1)\n",
    "end_date = start_date.advance(1, 'month')\n",
    "\n",
    "date_string = end_date.format('YYYY_MM')\n",
    "filename = 'ssm_{}.csv'.format(date_string.getInfo())"
   ]
  },
  {
   "cell_type": "code",
   "execution_count": 9,
   "metadata": {},
   "outputs": [],
   "source": [
    "output_path = os.path.join(filename)"
   ]
  },
  {
   "cell_type": "code",
   "execution_count": 10,
   "metadata": {},
   "outputs": [],
   "source": [
    "soilmoisture = ee.ImageCollection(\"NASA_USDA/HSL/SMAP10KM_soil_moisture\")\n",
    "admin2 = ee.FeatureCollection(\"FAO/GAUL_SIMPLIFIED_500m/2015/level2\")"
   ]
  },
  {
   "cell_type": "code",
   "execution_count": 11,
   "metadata": {},
   "outputs": [],
   "source": [
    "# Filter to a state\n",
    "karnataka = admin2.filter(ee.Filter.eq('ADM1_NAME', 'Karnataka'))\n",
    "\n",
    "# Select the ssm band\n",
    "ssm  = soilmoisture.select('ssm')\n",
    "\n",
    "filtered = ssm .filter(ee.Filter.date(start_date, end_date))\n",
    "\n",
    "mean = filtered.mean()\n",
    "\n",
    "stats = mean.reduceRegions(**{\n",
    "  'collection': karnataka,\n",
    "  'reducer': ee.Reducer.mean().setOutputs(['meanssm']),\n",
    "  'scale': 10000,\n",
    "  'crs': 'EPSG:32643'\n",
    "  })"
   ]
  },
  {
   "cell_type": "code",
   "execution_count": 12,
   "metadata": {},
   "outputs": [
    {
     "name": "stdout",
     "output_type": "stream",
     "text": [
      "Success: File written at ssm_2022_02.csv\n"
     ]
    }
   ],
   "source": [
    "# Select columns to keep and remove geometry to make the result lightweight\n",
    "# Change column names to match your uploaded shapefile\n",
    "columns = ['ADM2_NAME', 'meanssm']\n",
    "exportCollection = stats.select(**{\n",
    "    'propertySelectors': columns,\n",
    "    'retainGeometry': False})\n",
    "\n",
    "features = exportCollection.getInfo()['features']\n",
    "\n",
    "data = []\n",
    "\n",
    "for f in features:\n",
    "    data.append(f['properties'])\n",
    "\n",
    "field_names = ['ADM2_NAME', 'meanssm']\n",
    "\n",
    "with open(output_path, 'w') as csvfile:\n",
    "    writer = csv.DictWriter(csvfile, fieldnames = field_names)\n",
    "    writer.writeheader()\n",
    "    writer.writerows(data)\n",
    "    print('Success: File written at', output_path)"
   ]
  },
  {
   "cell_type": "code",
   "execution_count": 1,
   "metadata": {},
   "outputs": [
    {
     "name": "stdout",
     "output_type": "stream",
     "text": [
      "2023-09-21\n"
     ]
    }
   ],
   "source": [
    "import datetime\n",
    "\n",
    "today = datetime.date.today()\n",
    "print(today)"
   ]
  }
 ],
 "metadata": {
  "kernelspec": {
   "display_name": "Python 3",
   "language": "python",
   "name": "python3"
  },
  "language_info": {
   "codemirror_mode": {
    "name": "ipython",
    "version": 3
   },
   "file_extension": ".py",
   "mimetype": "text/x-python",
   "name": "python",
   "nbconvert_exporter": "python",
   "pygments_lexer": "ipython3",
   "version": "3.9.13"
  },
  "orig_nbformat": 4
 },
 "nbformat": 4,
 "nbformat_minor": 2
}
